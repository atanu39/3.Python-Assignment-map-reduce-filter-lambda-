{
 "cells": [
  {
   "cell_type": "markdown",
   "id": "593e5260-2fc3-48f0-940d-428441b5aa9c",
   "metadata": {},
   "source": [
    "# Q1. Create a python program to sort the given list of tuples based on integer value using a lambda function.\n",
    "[('Sachin Tendulkar', 34357), ('Ricky Ponting', 27483), ('Jack Kallis', 25534), ('Virat Kohli', 24936)]"
   ]
  },
  {
   "cell_type": "markdown",
   "id": "b46ece06-d9bc-4032-b758-ab4f531e7ea2",
   "metadata": {},
   "source": [
    "# Ans :"
   ]
  },
  {
   "cell_type": "code",
   "execution_count": 8,
   "id": "a18e8aca-be31-493f-96cf-86d1b72d05e7",
   "metadata": {},
   "outputs": [
    {
     "name": "stdout",
     "output_type": "stream",
     "text": [
      "[('Virat Kohli', 24936), ('Jack Kallis', 25534), ('Ricky Ponting', 27483), ('Sachin Tendulkar', 34357)]\n"
     ]
    }
   ],
   "source": [
    "lst=[('Sachin Tendulkar', 34357), ('Ricky Ponting', 27483), ('Jack Kallis', 25534), ('Virat Kohli', 24936)]\n",
    "lst.sort(key=lambda x:x[1])\n",
    "print(lst)"
   ]
  },
  {
   "cell_type": "markdown",
   "id": "fcf58ed3-c2a2-492b-9bcd-02c59e745126",
   "metadata": {},
   "source": [
    "# Q2. Write a Python Program to find the squares of all the numbers in the given list of integers using lambda and map functions.\n",
    "[1, 2, 3, 4, 5, 6, 7, 8, 9, 10]"
   ]
  },
  {
   "cell_type": "markdown",
   "id": "f265d08e-9a82-4884-a5ed-77f468811163",
   "metadata": {},
   "source": [
    "# Ans :"
   ]
  },
  {
   "cell_type": "code",
   "execution_count": 15,
   "id": "dd71afac-b2de-4d08-b2a8-4b2e2d5df2a9",
   "metadata": {},
   "outputs": [
    {
     "name": "stdout",
     "output_type": "stream",
     "text": [
      "[1, 4, 9, 16, 25, 36, 49, 64, 81, 100]\n"
     ]
    }
   ],
   "source": [
    "list1=[1, 2, 3, 4, 5, 6, 7, 8, 9, 10]\n",
    "sqr=list(map(lambda x:x**2,list1))\n",
    "print(sqr)"
   ]
  },
  {
   "cell_type": "markdown",
   "id": "d4fd960b-9ea1-460b-8361-7538bfdae8e4",
   "metadata": {},
   "source": [
    "# Q3. Write a python program to convert the given list of integers into a tuple of strings. Use map and lambda functions\n",
    "# Given String: [1, 2, 3, 4, 5, 6, 7, 8, 9, 10]\n",
    "# Expected output: ('1', '2', '3', '4', '5', '6', '7', '8', '9', '10')"
   ]
  },
  {
   "cell_type": "markdown",
   "id": "0460a7cb-679c-4232-a2b9-9dc4f00c671f",
   "metadata": {},
   "source": [
    "# Ans :"
   ]
  },
  {
   "cell_type": "code",
   "execution_count": 20,
   "id": "c5bea763-24ed-4800-9980-28400086016d",
   "metadata": {},
   "outputs": [
    {
     "name": "stdout",
     "output_type": "stream",
     "text": [
      "('1', '2', '3', '4', '5', '6', '7', '8', '9', '10')\n"
     ]
    }
   ],
   "source": [
    "lst=[1, 2, 3, 4, 5, 6, 7, 8, 9, 10]\n",
    "tup_str=tuple(map(lambda x:str(x),lst))\n",
    "print(tup_str)"
   ]
  },
  {
   "cell_type": "markdown",
   "id": "414c0af3-bbc9-4a5f-bb7b-2e187ebd7de8",
   "metadata": {},
   "source": [
    "# Q4. Write a python program using reduce function to compute the product of a list containing numbers from 1 to 25."
   ]
  },
  {
   "cell_type": "markdown",
   "id": "f8daa155-d725-45a0-a8d9-8e80badffd5e",
   "metadata": {},
   "source": [
    "# Ans :"
   ]
  },
  {
   "cell_type": "code",
   "execution_count": 22,
   "id": "b17b8b0f-681e-4f24-8670-7d68672ae7c4",
   "metadata": {},
   "outputs": [
    {
     "name": "stdout",
     "output_type": "stream",
     "text": [
      "15511210043330985984000000\n"
     ]
    }
   ],
   "source": [
    "from functools import reduce\n",
    "lst=list(range(1,26))\n",
    "product=reduce(lambda x,y:x*y,lst)\n",
    "print(product)"
   ]
  },
  {
   "cell_type": "markdown",
   "id": "78e02cf0-7b19-4fdd-9347-22b33be0ee75",
   "metadata": {},
   "source": [
    "# Q5. Write a python program to filter the numbers in a given list that are divisible by 2 and 3 using the filter function.\n",
    "[2, 3, 6, 9, 27, 60, 90, 120, 55, 46]"
   ]
  },
  {
   "cell_type": "markdown",
   "id": "a11f3399-b0ad-4069-bbb1-cf77c3f756bc",
   "metadata": {},
   "source": [
    "# Ans :"
   ]
  },
  {
   "cell_type": "code",
   "execution_count": 2,
   "id": "4916af3f-25d7-4176-bb3f-274419ff2e17",
   "metadata": {},
   "outputs": [
    {
     "name": "stdout",
     "output_type": "stream",
     "text": [
      "[2, 3, 6, 9, 27, 60, 90, 120, 46]\n"
     ]
    }
   ],
   "source": [
    "lst=[2, 3, 6, 9, 27, 60, 90, 120, 55, 46]\n",
    "filter_lst=list(filter(lambda x:x%2==0 or x%3==0,lst))\n",
    "print(filter_lst)"
   ]
  },
  {
   "cell_type": "markdown",
   "id": "92108d9a-d764-4518-811a-6365c7a762f5",
   "metadata": {},
   "source": [
    "# Q6. Write a python program to find palindromes in the given list of strings using lambda and filter function.\n",
    "['python', 'php', 'aba', 'radar', 'level']"
   ]
  },
  {
   "cell_type": "markdown",
   "id": "c0f85660-0339-48ae-b4d6-d062587ff653",
   "metadata": {},
   "source": [
    "# Ans :"
   ]
  },
  {
   "cell_type": "code",
   "execution_count": 3,
   "id": "da57127c-5b91-4de1-8094-c77899bbede1",
   "metadata": {},
   "outputs": [
    {
     "name": "stdout",
     "output_type": "stream",
     "text": [
      "['php', 'aba', 'radar', 'level']\n"
     ]
    }
   ],
   "source": [
    "lst = ['python', 'php', 'aba', 'radar', 'level']\n",
    "\n",
    "palindromes = list(filter(lambda x: x == x[::-1], lst))\n",
    "print(palindromes)"
   ]
  },
  {
   "cell_type": "code",
   "execution_count": null,
   "id": "d7a4d03c-54e2-4701-a773-b808164addd2",
   "metadata": {},
   "outputs": [],
   "source": []
  }
 ],
 "metadata": {
  "kernelspec": {
   "display_name": "Python 3 (ipykernel)",
   "language": "python",
   "name": "python3"
  },
  "language_info": {
   "codemirror_mode": {
    "name": "ipython",
    "version": 3
   },
   "file_extension": ".py",
   "mimetype": "text/x-python",
   "name": "python",
   "nbconvert_exporter": "python",
   "pygments_lexer": "ipython3",
   "version": "3.10.8"
  }
 },
 "nbformat": 4,
 "nbformat_minor": 5
}
